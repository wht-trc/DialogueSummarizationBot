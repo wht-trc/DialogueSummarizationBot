{
 "cells": [
  {
   "cell_type": "code",
   "execution_count": 1,
   "metadata": {},
   "outputs": [
    {
     "name": "stderr",
     "output_type": "stream",
     "text": [
      "c:\\Users\\razbo\\AppData\\Local\\Programs\\Python\\Python312\\Lib\\site-packages\\tqdm\\auto.py:21: TqdmWarning: IProgress not found. Please update jupyter and ipywidgets. See https://ipywidgets.readthedocs.io/en/stable/user_install.html\n",
      "  from .autonotebook import tqdm as notebook_tqdm\n"
     ]
    },
    {
     "name": "stdout",
     "output_type": "stream",
     "text": [
      "transformers version: 4.43.3\n"
     ]
    }
   ],
   "source": [
    "import transformers\n",
    "print(\"transformers version:\", transformers.__version__)"
   ]
  },
  {
   "cell_type": "code",
   "execution_count": 10,
   "metadata": {},
   "outputs": [
    {
     "name": "stdout",
     "output_type": "stream",
     "text": [
      "aiogram version: 3.8.0\n"
     ]
    }
   ],
   "source": [
    "import aiogram\n",
    "print(\"aiogram version:\", aiogram.__version__)"
   ]
  },
  {
   "cell_type": "code",
   "execution_count": 3,
   "metadata": {},
   "outputs": [
    {
     "name": "stdout",
     "output_type": "stream",
     "text": [
      "telethon version: 1.36.0\n"
     ]
    }
   ],
   "source": [
    "import telethon\n",
    "print(\"telethon version:\", telethon.__version__)"
   ]
  },
  {
   "cell_type": "code",
   "execution_count": 4,
   "metadata": {},
   "outputs": [
    {
     "name": "stdout",
     "output_type": "stream",
     "text": [
      "torch version: 2.3.1+cpu\n"
     ]
    }
   ],
   "source": [
    "import torch\n",
    "print(\"torch version:\", torch.__version__)"
   ]
  },
  {
   "cell_type": "code",
   "execution_count": 9,
   "metadata": {},
   "outputs": [
    {
     "name": "stdout",
     "output_type": "stream",
     "text": [
      "Requirement already satisfied: aiogram==3.10.0 in c:\\users\\razbo\\appdata\\local\\programs\\python\\python312\\lib\\site-packages (3.10.0)\n",
      "Requirement already satisfied: aiofiles~=23.2.1 in c:\\users\\razbo\\appdata\\local\\programs\\python\\python312\\lib\\site-packages (from aiogram==3.10.0) (23.2.1)\n",
      "Requirement already satisfied: aiohttp~=3.9.0 in c:\\users\\razbo\\appdata\\local\\programs\\python\\python312\\lib\\site-packages (from aiogram==3.10.0) (3.9.5)\n",
      "Requirement already satisfied: certifi>=2023.7.22 in c:\\users\\razbo\\appdata\\local\\programs\\python\\python312\\lib\\site-packages (from aiogram==3.10.0) (2024.6.2)\n",
      "Requirement already satisfied: magic-filter<1.1,>=1.0.12 in c:\\users\\razbo\\appdata\\local\\programs\\python\\python312\\lib\\site-packages (from aiogram==3.10.0) (1.0.12)\n",
      "Requirement already satisfied: pydantic<2.9,>=2.4.1 in c:\\users\\razbo\\appdata\\local\\programs\\python\\python312\\lib\\site-packages (from aiogram==3.10.0) (2.7.4)\n",
      "Requirement already satisfied: typing-extensions<=5.0,>=4.7.0 in c:\\users\\razbo\\appdata\\local\\programs\\python\\python312\\lib\\site-packages (from aiogram==3.10.0) (4.12.2)\n",
      "Requirement already satisfied: aiosignal>=1.1.2 in c:\\users\\razbo\\appdata\\local\\programs\\python\\python312\\lib\\site-packages (from aiohttp~=3.9.0->aiogram==3.10.0) (1.3.1)\n",
      "Requirement already satisfied: attrs>=17.3.0 in c:\\users\\razbo\\appdata\\local\\programs\\python\\python312\\lib\\site-packages (from aiohttp~=3.9.0->aiogram==3.10.0) (23.2.0)\n",
      "Requirement already satisfied: frozenlist>=1.1.1 in c:\\users\\razbo\\appdata\\local\\programs\\python\\python312\\lib\\site-packages (from aiohttp~=3.9.0->aiogram==3.10.0) (1.4.1)\n",
      "Requirement already satisfied: multidict<7.0,>=4.5 in c:\\users\\razbo\\appdata\\local\\programs\\python\\python312\\lib\\site-packages (from aiohttp~=3.9.0->aiogram==3.10.0) (6.0.5)\n",
      "Requirement already satisfied: yarl<2.0,>=1.0 in c:\\users\\razbo\\appdata\\local\\programs\\python\\python312\\lib\\site-packages (from aiohttp~=3.9.0->aiogram==3.10.0) (1.9.4)\n",
      "Requirement already satisfied: annotated-types>=0.4.0 in c:\\users\\razbo\\appdata\\local\\programs\\python\\python312\\lib\\site-packages (from pydantic<2.9,>=2.4.1->aiogram==3.10.0) (0.7.0)\n",
      "Requirement already satisfied: pydantic-core==2.18.4 in c:\\users\\razbo\\appdata\\local\\programs\\python\\python312\\lib\\site-packages (from pydantic<2.9,>=2.4.1->aiogram==3.10.0) (2.18.4)\n",
      "Requirement already satisfied: idna>=2.0 in c:\\users\\razbo\\appdata\\local\\programs\\python\\python312\\lib\\site-packages (from yarl<2.0,>=1.0->aiohttp~=3.9.0->aiogram==3.10.0) (3.7)\n"
     ]
    },
    {
     "name": "stderr",
     "output_type": "stream",
     "text": [
      "WARNING: Ignoring invalid distribution ~angchain (C:\\Users\\razbo\\AppData\\Local\\Programs\\Python\\Python312\\Lib\\site-packages)\n",
      "WARNING: Ignoring invalid distribution ~ip (C:\\Users\\razbo\\AppData\\Local\\Programs\\Python\\Python312\\Lib\\site-packages)\n",
      "WARNING: Ignoring invalid distribution ~orch (C:\\Users\\razbo\\AppData\\Local\\Programs\\Python\\Python312\\Lib\\site-packages)\n",
      "WARNING: Ignoring invalid distribution ~angchain (C:\\Users\\razbo\\AppData\\Local\\Programs\\Python\\Python312\\Lib\\site-packages)\n",
      "WARNING: Ignoring invalid distribution ~ip (C:\\Users\\razbo\\AppData\\Local\\Programs\\Python\\Python312\\Lib\\site-packages)\n",
      "WARNING: Ignoring invalid distribution ~orch (C:\\Users\\razbo\\AppData\\Local\\Programs\\Python\\Python312\\Lib\\site-packages)\n",
      "WARNING: Ignoring invalid distribution ~angchain (C:\\Users\\razbo\\AppData\\Local\\Programs\\Python\\Python312\\Lib\\site-packages)\n",
      "WARNING: Ignoring invalid distribution ~ip (C:\\Users\\razbo\\AppData\\Local\\Programs\\Python\\Python312\\Lib\\site-packages)\n",
      "WARNING: Ignoring invalid distribution ~orch (C:\\Users\\razbo\\AppData\\Local\\Programs\\Python\\Python312\\Lib\\site-packages)\n"
     ]
    }
   ],
   "source": [
    "!pip install aiogram==3.10.0"
   ]
  }
 ],
 "metadata": {
  "kernelspec": {
   "display_name": "Python 3",
   "language": "python",
   "name": "python3"
  },
  "language_info": {
   "codemirror_mode": {
    "name": "ipython",
    "version": 3
   },
   "file_extension": ".py",
   "mimetype": "text/x-python",
   "name": "python",
   "nbconvert_exporter": "python",
   "pygments_lexer": "ipython3",
   "version": "3.12.4"
  }
 },
 "nbformat": 4,
 "nbformat_minor": 2
}
